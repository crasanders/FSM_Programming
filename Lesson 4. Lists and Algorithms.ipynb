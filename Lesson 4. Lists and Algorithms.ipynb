{
 "cells": [
  {
   "cell_type": "markdown",
   "metadata": {},
   "source": [
    "# Lists"
   ]
  },
  {
   "cell_type": "markdown",
   "metadata": {},
   "source": [
    "Lists are a datatype that can store multiple values. You can create a list using brackets (**[ ]**) like so:"
   ]
  },
  {
   "cell_type": "code",
   "execution_count": 13,
   "metadata": {
    "collapsed": false
   },
   "outputs": [
    {
     "name": "stdout",
     "output_type": "stream",
     "text": [
      "[1, 2, 3]\n"
     ]
    }
   ],
   "source": [
    "my_list = [1, 2, 3]\n",
    "print(my_list)"
   ]
  },
  {
   "cell_type": "markdown",
   "metadata": {},
   "source": [
    "You can add more values to a list using the \"append\" method. A *method* is a function that is built into an object and is accessed using the dot operator (**.**). We'll see more examples of methods later. The example below shows you how to use \"append\". Notice that a list can have different types of data in it:"
   ]
  },
  {
   "cell_type": "code",
   "execution_count": 5,
   "metadata": {
    "collapsed": false
   },
   "outputs": [
    {
     "name": "stdout",
     "output_type": "stream",
     "text": [
      "[1, 2.0, 'three']\n"
     ]
    }
   ],
   "source": [
    "my_list = [] #creates an empty list\n",
    "my_list.append(1)\n",
    "my_list.append(2.0)\n",
    "my_list.append('three')\n",
    "print(my_list)"
   ]
  },
  {
   "cell_type": "markdown",
   "metadata": {},
   "source": [
    "You can use the \"in\" keyword to check if a value is inside of a list:"
   ]
  },
  {
   "cell_type": "code",
   "execution_count": 12,
   "metadata": {
    "collapsed": false
   },
   "outputs": [
    {
     "name": "stdout",
     "output_type": "stream",
     "text": [
      "True\n",
      "False\n"
     ]
    }
   ],
   "source": [
    "my_list = ['frog', 'bear', 'tree']\n",
    "print('frog' in my_list)\n",
    "print('house' in my_list)"
   ]
  },
  {
   "cell_type": "markdown",
   "metadata": {},
   "source": [
    "You can use the built-in function \"len\" to see how many values a list has in it:"
   ]
  },
  {
   "cell_type": "code",
   "execution_count": 15,
   "metadata": {
    "collapsed": false
   },
   "outputs": [
    {
     "name": "stdout",
     "output_type": "stream",
     "text": [
      "0\n",
      "1\n",
      "6\n"
     ]
    }
   ],
   "source": [
    "list_1 = []\n",
    "list_2 = ['one']\n",
    "list_3 = [1, 'one', 2, 'two', 3, 'three']\n",
    "\n",
    "print(len(list_1))\n",
    "print(len(list_2))\n",
    "print(len(list_3))"
   ]
  },
  {
   "cell_type": "markdown",
   "metadata": {},
   "source": [
    "Each value in a list has an *index*. The index of a value tells you where in the list that value can be found. The first value in a list has an index of 0. The next item has an index of 1, the one after that has an index of 2, etc. You can get an individual value from a list using the *indexing operator*. To use the indexing operator, put a pair of brackets (**[ ]**) after your list, and put inside your brackets the index of the item you want. The code below shows how this works:"
   ]
  },
  {
   "cell_type": "code",
   "execution_count": 18,
   "metadata": {
    "collapsed": false
   },
   "outputs": [
    {
     "name": "stdout",
     "output_type": "stream",
     "text": [
      "1\n",
      "3\n",
      "5\n"
     ]
    }
   ],
   "source": [
    "my_list = [1, 2, 3, 4, 5]\n",
    "\n",
    "print(my_list[0])\n",
    "print(my_list[2])\n",
    "print(my_list[4])"
   ]
  },
  {
   "cell_type": "markdown",
   "metadata": {},
   "source": [
    "Python will give you an error if you try get a value from an index that doesn't exist:"
   ]
  },
  {
   "cell_type": "code",
   "execution_count": 3,
   "metadata": {
    "collapsed": false
   },
   "outputs": [
    {
     "ename": "IndexError",
     "evalue": "list index out of range",
     "output_type": "error",
     "traceback": [
      "\u001b[0;31m---------------------------------------------------------------------------\u001b[0m",
      "\u001b[0;31mIndexError\u001b[0m                                Traceback (most recent call last)",
      "\u001b[0;32m<ipython-input-3-34c2f269ba34>\u001b[0m in \u001b[0;36m<module>\u001b[0;34m()\u001b[0m\n\u001b[1;32m      1\u001b[0m \u001b[0mmy_list\u001b[0m \u001b[1;33m=\u001b[0m \u001b[1;33m[\u001b[0m\u001b[1;36m1\u001b[0m\u001b[1;33m,\u001b[0m \u001b[1;36m2\u001b[0m\u001b[1;33m,\u001b[0m \u001b[1;36m3\u001b[0m\u001b[1;33m,\u001b[0m \u001b[1;36m4\u001b[0m\u001b[1;33m,\u001b[0m \u001b[1;36m5\u001b[0m\u001b[1;33m]\u001b[0m\u001b[1;33m\u001b[0m\u001b[0m\n\u001b[0;32m----> 2\u001b[0;31m \u001b[0mprint\u001b[0m\u001b[1;33m(\u001b[0m\u001b[0mmy_list\u001b[0m\u001b[1;33m[\u001b[0m\u001b[1;36m100\u001b[0m\u001b[1;33m]\u001b[0m\u001b[1;33m)\u001b[0m\u001b[1;33m\u001b[0m\u001b[0m\n\u001b[0m",
      "\u001b[0;31mIndexError\u001b[0m: list index out of range"
     ]
    }
   ],
   "source": [
    "my_list = [1, 2, 3, 4, 5]\n",
    "print(my_list[100])"
   ]
  },
  {
   "cell_type": "markdown",
   "metadata": {},
   "source": [
    "You can use the \"index\" method to get the index of a value in a list. If the value occurs more than once, it will only tell you the index of the first one:"
   ]
  },
  {
   "cell_type": "code",
   "execution_count": 2,
   "metadata": {
    "collapsed": false
   },
   "outputs": [
    {
     "name": "stdout",
     "output_type": "stream",
     "text": [
      "0\n",
      "1\n"
     ]
    }
   ],
   "source": [
    "my_list = ['a', 'b', 'c', 'b']\n",
    "\n",
    "print(my_list.index('a'))\n",
    "print(my_list.index('b'))"
   ]
  },
  {
   "cell_type": "markdown",
   "metadata": {},
   "source": [
    "You can use the \"insert\" method to insert a new value into a list at a particular index. The first argument to insert is the index, and the second is the value you want to insert. Any item with that index or a greater index will get shifted to the right:"
   ]
  },
  {
   "cell_type": "code",
   "execution_count": 8,
   "metadata": {
    "collapsed": false
   },
   "outputs": [
    {
     "name": "stdout",
     "output_type": "stream",
     "text": [
      "['a', 'c', 'b', 'd']\n"
     ]
    }
   ],
   "source": [
    "my_list = ['a', 'b', 'd']\n",
    "my_list.insert(1, 'c')\n",
    "print(my_list)"
   ]
  },
  {
   "cell_type": "markdown",
   "metadata": {},
   "source": [
    "## Exercises"
   ]
  },
  {
   "cell_type": "markdown",
   "metadata": {},
   "source": [
    "1\\. What is the value of variable \"true_or_false\" after running the following code?"
   ]
  },
  {
   "cell_type": "code",
   "execution_count": 16,
   "metadata": {
    "collapsed": false
   },
   "outputs": [],
   "source": [
    "my_list = [1, 10, 1000]\n",
    "x = 1 in my_list\n",
    "y = my_list[1] < len(my_list)\n",
    "true_or_false = x and y"
   ]
  },
  {
   "cell_type": "markdown",
   "metadata": {},
   "source": [
    "2\\. What is the value of the variable \"x\" after running the following code?"
   ]
  },
  {
   "cell_type": "code",
   "execution_count": 12,
   "metadata": {
    "collapsed": false
   },
   "outputs": [],
   "source": [
    "my_list = []\n",
    "my_list.append('b')\n",
    "my_list.append('a')\n",
    "my_list.insert(0, 'c')\n",
    "x = my_list.index('a')"
   ]
  },
  {
   "cell_type": "markdown",
   "metadata": {},
   "source": [
    "# Algorithms"
   ]
  },
  {
   "cell_type": "markdown",
   "metadata": {},
   "source": [
    "An *algorithm* is a set of step-by-step instructions for solving a problem. For example, this is an algorithm for making a peanutbutter sandwich:\n",
    "\n",
    "1. Open a package of bread.\n",
    "2. Take out two slices of bread.\n",
    "3. Close package of bread.\n",
    "4. Open a jar of peanutbutter.\n",
    "5. Insert a knife into the jar of peanutbutter.\n",
    "6. Use the knife to spread peanutbutter onto one of the slices of bread.\n",
    "7. Put the slice of bread with peanutbutter on it on top of the other slice, with the peanutbutter facing the other slice.\n",
    "8. Wash and store knife.\n",
    "9. Close jar of peanutbutter.\n",
    "\n",
    "One of a computer scientist's jobs is to figure out what the best algorithms for solving different problems are. The code below creates a number guessing game. Python will generate a random number between 1 and 100, and your job is to figure out what the number is in the lowest number of guesses. You can play for multiple rounds, and it will calculate what your average number of guesses per round is. See if you can think of an algorithm that will figure out the number in the lowest average number of guesses per round."
   ]
  },
  {
   "cell_type": "code",
   "execution_count": 1,
   "metadata": {
    "collapsed": false
   },
   "outputs": [
    {
     "name": "stdout",
     "output_type": "stream",
     "text": [
      "How many rounds do you want to play? 2\n",
      "ROUND 1\n",
      "I'm thinking of a number between 1 and 100 .\n",
      "Guess a number:  66\n",
      "Sorry, your guess is too big.\n",
      "Guess a number:  25\n",
      "Sorry, your guess is too small.\n",
      "Guess a number:  42\n",
      "Sorry, your guess is too big.\n",
      "Guess a number:  30\n",
      "Sorry, your guess is too big.\n",
      "Guess a number:  28\n",
      "Sorry, your guess is too big.\n",
      "Guess a number:  27\n",
      "Congratulations, numbers are equal!\n",
      "Number of guesses: 6\n",
      "  \n",
      "ROUND 2\n",
      "I'm thinking of a number between 1 and 100 .\n",
      "Guess a number:  99\n",
      "Sorry, your guess is too big.\n",
      "Guess a number:  10\n",
      "Sorry, your guess is too small.\n",
      "Guess a number:  40\n",
      "Sorry, your guess is too small.\n",
      "Guess a number:  67\n",
      "Sorry, your guess is too small.\n",
      "Guess a number:  75\n",
      "Sorry, your guess is too big.\n",
      "Guess a number:  70\n",
      "Sorry, your guess is too small.\n",
      "Guess a number:  71\n",
      "Sorry, your guess is too small.\n",
      "Guess a number:  72\n",
      "Congratulations, numbers are equal!\n",
      "Number of guesses: 8\n",
      "  \n",
      "Your average number of guesses was: 7.0\n"
     ]
    }
   ],
   "source": [
    "import random\n",
    "\n",
    "#First let's ask how many rounds we want to play\n",
    "number_of_rounds = input(\"How many rounds do you want to play? \")\n",
    "number_of_rounds = int(number_of_rounds)\n",
    "\n",
    "\n",
    "#This function runs the game. We'll call it every round.\n",
    "def guessing_game():\n",
    "    #Generate a random number\n",
    "    lower = 1\n",
    "    upper = 100\n",
    "    to_guess = random.randint(lower, upper)\n",
    "    print(\"I'm thinking of a number between\", lower, \"and\", upper, \".\")\n",
    "\n",
    "    #Keep making guesses until you guess the number\n",
    "    guess = None\n",
    "    num_guesses = 0\n",
    "    while guess != to_guess:\n",
    "        guess = input(\"Guess a number:  \")\n",
    "        guess = int(guess)\n",
    "        num_guesses = num_guesses + 1\n",
    "\n",
    "        if guess == to_guess:\n",
    "            print(\"Congratulations, numbers are equal!\")\n",
    "        elif guess > to_guess:\n",
    "            print(\"Sorry, your guess is too big.\")\n",
    "        elif guess < to_guess:\n",
    "            print(\"Sorry, your guess is too small.\")\n",
    "\n",
    "    #Return the number of guesses it took\n",
    "    return num_guesses\n",
    "\n",
    "#We keep a list of our guesses for each round\n",
    "current_round = 1\n",
    "guesses = []\n",
    "while current_round <= number_of_rounds:\n",
    "    print(\"ROUND\", current_round)\n",
    "    num_guesses = guessing_game()\n",
    "    print(\"Number of guesses:\", num_guesses)\n",
    "    guesses.append(num_guesses)\n",
    "    print(\"  \")\n",
    "    current_round = current_round + 1\n",
    "    \n",
    "#Let's calculate the average number of guesses per round.\n",
    "#First Calculate the total number of guesses\n",
    "total_guesses = 0\n",
    "g = 0\n",
    "while g < number_of_rounds:\n",
    "    total_guesses = total_guesses + guesses[g]\n",
    "    g = g + 1\n",
    "\n",
    "#Now divide the total number of guesses by the number of rounds\n",
    "average_guesses = total_guesses / number_of_rounds\n",
    "\n",
    "print(\"Your average number of guesses was:\", round(average_guesses, 2))\n"
   ]
  },
  {
   "cell_type": "code",
   "execution_count": null,
   "metadata": {
    "collapsed": true
   },
   "outputs": [],
   "source": []
  }
 ],
 "metadata": {
  "anaconda-cloud": {},
  "kernelspec": {
   "display_name": "Python [default]",
   "language": "python",
   "name": "python3"
  },
  "language_info": {
   "codemirror_mode": {
    "name": "ipython",
    "version": 3
   },
   "file_extension": ".py",
   "mimetype": "text/x-python",
   "name": "python",
   "nbconvert_exporter": "python",
   "pygments_lexer": "ipython3",
   "version": "3.5.2"
  }
 },
 "nbformat": 4,
 "nbformat_minor": 1
}
