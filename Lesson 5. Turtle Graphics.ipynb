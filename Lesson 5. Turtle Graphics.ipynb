{
 "cells": [
  {
   "cell_type": "markdown",
   "metadata": {},
   "source": [
    "# Turtle Graphics\n",
    "\n",
    "In this lesson we will learn how to draw graphics using Python's *turtle* module.\n",
    "\n",
    "To use the turtle module, you have to import it like so:"
   ]
  },
  {
   "cell_type": "code",
   "execution_count": 5,
   "metadata": {
    "collapsed": false
   },
   "outputs": [],
   "source": [
    "import turtle"
   ]
  },
  {
   "cell_type": "markdown",
   "metadata": {},
   "source": [
    "Now we have to create our turtle object. We can do this using by setting a variable to \"turtle.Turtle()\". When you do this, a screen should pop up with a turtle in the middle (your screen might look a little different from the example shown here). "
   ]
  },
  {
   "cell_type": "code",
   "execution_count": 17,
   "metadata": {
    "collapsed": true
   },
   "outputs": [],
   "source": [
    "myturtle = turtle.Turtle()"
   ]
  },
  {
   "cell_type": "markdown",
   "metadata": {},
   "source": [
    "![title](img/img1.png)"
   ]
  },
  {
   "cell_type": "markdown",
   "metadata": {},
   "source": [
    "Your turtle is holding a pen, and whenever it moves, it will use the pen to draw. You can move your turtle using the \"forward\" method like so:"
   ]
  },
  {
   "cell_type": "code",
   "execution_count": 18,
   "metadata": {
    "collapsed": true
   },
   "outputs": [],
   "source": [
    "myturtle.forward(100) #move turtle forward 100 units"
   ]
  },
  {
   "cell_type": "markdown",
   "metadata": {},
   "source": [
    "![title](img/img2.png)"
   ]
  },
  {
   "cell_type": "markdown",
   "metadata": {},
   "source": [
    "You can make your turtle turn right using the \"right\" method:"
   ]
  },
  {
   "cell_type": "code",
   "execution_count": 19,
   "metadata": {
    "collapsed": true
   },
   "outputs": [],
   "source": [
    "myturtle.right(90) #turn turtle 90 degrees to the right"
   ]
  },
  {
   "cell_type": "markdown",
   "metadata": {},
   "source": [
    "![title](img/img3.png)"
   ]
  },
  {
   "cell_type": "markdown",
   "metadata": {},
   "source": [
    "Now if you call the \"forward\" method again, it will draw in the new direction:"
   ]
  },
  {
   "cell_type": "code",
   "execution_count": 20,
   "metadata": {
    "collapsed": true
   },
   "outputs": [],
   "source": [
    "myturtle.forward(50) #move turtle forward 50 units"
   ]
  },
  {
   "cell_type": "markdown",
   "metadata": {},
   "source": [
    "![title](img/img4.png)"
   ]
  },
  {
   "cell_type": "markdown",
   "metadata": {},
   "source": [
    "Now we can move it to the left using the \"left\" method:"
   ]
  },
  {
   "cell_type": "code",
   "execution_count": 21,
   "metadata": {
    "collapsed": true
   },
   "outputs": [],
   "source": [
    "myturtle.left(45) #move turtle 45 degrees to the left"
   ]
  },
  {
   "cell_type": "markdown",
   "metadata": {},
   "source": [
    "![title](img/img5.png)"
   ]
  },
  {
   "cell_type": "markdown",
   "metadata": {},
   "source": [
    "And move it forward again to draw:"
   ]
  },
  {
   "cell_type": "code",
   "execution_count": 22,
   "metadata": {
    "collapsed": true
   },
   "outputs": [],
   "source": [
    "myturtle.forward(50) #move turtle forward 50 units"
   ]
  },
  {
   "cell_type": "markdown",
   "metadata": {},
   "source": [
    "![title](img/img6.png)"
   ]
  },
  {
   "cell_type": "markdown",
   "metadata": {},
   "source": [
    "If we want our turtle to go back the beginning, we can use the \"home\" method (notice that the turtle doesn't change its direction):"
   ]
  },
  {
   "cell_type": "code",
   "execution_count": 23,
   "metadata": {
    "collapsed": true
   },
   "outputs": [],
   "source": [
    "myturtle.home()"
   ]
  },
  {
   "cell_type": "markdown",
   "metadata": {},
   "source": [
    "![title](img/img7.png)"
   ]
  },
  {
   "cell_type": "markdown",
   "metadata": {},
   "source": [
    "We can also tell the turtle to go to a specific location on the screen using the \"goto\" method. \"goto\" takes two arguments, $x$ and $y$, which are the horizontal and vertical positions you want the turtle to go to. The center of the screen is at $(x=0, y=0)$ (Notice again that the turtle doesn't change its direction)."
   ]
  },
  {
   "cell_type": "code",
   "execution_count": null,
   "metadata": {
    "collapsed": true
   },
   "outputs": [],
   "source": [
    "myturtle.goto(-100, 75) #go to location (-100, 75), which is to the left and up of the center."
   ]
  },
  {
   "cell_type": "markdown",
   "metadata": {},
   "source": [
    "![title](img/img8.png)"
   ]
  },
  {
   "cell_type": "markdown",
   "metadata": {},
   "source": [
    "You can change the turtle's speed using the \"speed\" method. You can set the speed to a number from 1 to 10, with 1 being the slowest and 10 being the fastest (default is 6). Notice how fast the turtle moves when we run this code:"
   ]
  },
  {
   "cell_type": "code",
   "execution_count": null,
   "metadata": {
    "collapsed": true
   },
   "outputs": [],
   "source": [
    "myturtle.speed(10)\n",
    "myturtle.left(45)\n",
    "myturtle.forward(100)"
   ]
  },
  {
   "cell_type": "markdown",
   "metadata": {},
   "source": [
    "![title](img/img9.png)"
   ]
  },
  {
   "cell_type": "markdown",
   "metadata": {},
   "source": [
    "If you set the turtle's speed to 0, it will move instantly:"
   ]
  },
  {
   "cell_type": "markdown",
   "metadata": {},
   "source": [
    "myturtle.speed(0)\n",
    "myturtle.right(45)\n",
    "myturtle.forward(100)"
   ]
  },
  {
   "cell_type": "markdown",
   "metadata": {},
   "source": [
    "![title](img/img10.png)"
   ]
  },
  {
   "cell_type": "markdown",
   "metadata": {},
   "source": [
    "If you want to move the turtle without drawing, you can use the \"penup\" method:"
   ]
  },
  {
   "cell_type": "code",
   "execution_count": null,
   "metadata": {
    "collapsed": true
   },
   "outputs": [],
   "source": [
    "myturtle.penup()\n",
    "myturtle.forward(100)"
   ]
  },
  {
   "cell_type": "markdown",
   "metadata": {},
   "source": [
    "![title](img/img11.png)"
   ]
  },
  {
   "cell_type": "markdown",
   "metadata": {},
   "source": [
    "To start drawing again, use the \"pendown\" method:"
   ]
  },
  {
   "cell_type": "code",
   "execution_count": null,
   "metadata": {
    "collapsed": true
   },
   "outputs": [],
   "source": [
    "myturtle.pendown()\n",
    "myturtle.forward(100)"
   ]
  },
  {
   "cell_type": "markdown",
   "metadata": {},
   "source": [
    "![title](img/img12.png)"
   ]
  },
  {
   "cell_type": "markdown",
   "metadata": {},
   "source": [
    "You can change the color of the pen using the \"pencolor\" function:"
   ]
  },
  {
   "cell_type": "code",
   "execution_count": null,
   "metadata": {
    "collapsed": true
   },
   "outputs": [],
   "source": [
    "myturtle.pencolor(\"red\")\n",
    "myturtle.right(90)\n",
    "myturtle.forward(100)\n",
    "myturtle.pencolor(\"blue\")\n",
    "myturtle.forward(100)"
   ]
  },
  {
   "cell_type": "markdown",
   "metadata": {},
   "source": [
    "![title](img/img13.png)"
   ]
  },
  {
   "cell_type": "markdown",
   "metadata": {},
   "source": [
    "You can change the size of the pen using the \"pensize\" method. \"pensize\" takes one argument that can be any number, with bigger numbers being bigger sizes (default is 1):"
   ]
  },
  {
   "cell_type": "code",
   "execution_count": null,
   "metadata": {
    "collapsed": true
   },
   "outputs": [],
   "source": [
    "myturtle.pensize(10) #make the pen 10 times bigger than normal\n",
    "myturtle.forward(100)"
   ]
  },
  {
   "cell_type": "markdown",
   "metadata": {},
   "source": [
    "![title](img/img14.png)"
   ]
  },
  {
   "cell_type": "markdown",
   "metadata": {},
   "source": [
    "To start over from the beginning, use the \"reset\" method:"
   ]
  },
  {
   "cell_type": "code",
   "execution_count": null,
   "metadata": {
    "collapsed": true
   },
   "outputs": [],
   "source": [
    "myturtle.reset()"
   ]
  },
  {
   "cell_type": "markdown",
   "metadata": {},
   "source": [
    "![title](img/img1.png)"
   ]
  },
  {
   "cell_type": "markdown",
   "metadata": {},
   "source": [
    "You can draw a circle using the \"circle\" method. \"circle\" takes a numerical argument that determines the radius of the circle:"
   ]
  },
  {
   "cell_type": "code",
   "execution_count": null,
   "metadata": {
    "collapsed": true
   },
   "outputs": [],
   "source": [
    "myturtle.circle(50) #draw a circle with a radius of 50 units"
   ]
  },
  {
   "cell_type": "markdown",
   "metadata": {},
   "source": [
    "![title](img/img15.png)"
   ]
  },
  {
   "cell_type": "markdown",
   "metadata": {},
   "source": [
    "\"circle\" also takes an optional argument called \"extent\" that determines how many degrees of the circle should be drawn (a full circle has 360 degrees):"
   ]
  },
  {
   "cell_type": "code",
   "execution_count": null,
   "metadata": {
    "collapsed": true
   },
   "outputs": [],
   "source": [
    "myturtle.reset()\n",
    "myturtle.circle(50, extent=180) #draw half of a circle with a radius of 50 units"
   ]
  },
  {
   "cell_type": "markdown",
   "metadata": {},
   "source": [
    "![title](img/img16.png)"
   ]
  },
  {
   "cell_type": "markdown",
   "metadata": {},
   "source": [
    "# Exercise\n",
    "\n",
    "Use the turtle module and all the other skills you have learned to create an interesting picture. There is some example code below to get you started, or you can start from scratch."
   ]
  },
  {
   "cell_type": "code",
   "execution_count": null,
   "metadata": {
    "collapsed": true
   },
   "outputs": [],
   "source": [
    "#This code draws a house\n",
    "\n",
    "import turtle\n",
    "\n",
    "#These variable determine how big different parts of the house will be\n",
    "house_width = 400\n",
    "house_height = 200\n",
    "roof_height = 100\n",
    "door_width = 50\n",
    "door_height = 75\n",
    "window_width = 50\n",
    "window_height = window_width\n",
    "\n",
    "#Create our turtle\n",
    "myturtle = turtle.Turtle()\n",
    "\n",
    "#Draw the base of the house\n",
    "myturtle.forward(house_width)\n",
    "myturtle.right(90)\n",
    "myturtle.forward(house_height)\n",
    "myturtle.right(90)\n",
    "myturtle.forward(house_width)\n",
    "myturtle.right(90)\n",
    "myturtle.forward(house_height)\n",
    "\n",
    "#Draw the roof\n",
    "myturtle.goto(house_width/2, roof_height)\n",
    "myturtle.goto(house_width, 0)\n",
    "\n",
    "#Move the turtle to where we'll put the door without drawing\n",
    "myturtle.penup()\n",
    "myturtle.goto(house_width/4, -house_height)\n",
    "\n",
    "#Draw the door\n",
    "myturtle.pendown()\n",
    "myturtle.forward(door_height)\n",
    "myturtle.right(90)\n",
    "myturtle.forward(door_width)\n",
    "myturtle.right(90)\n",
    "myturtle.forward(door_height)\n",
    "\n",
    "#Move the turtle to where we'll put the doorknob without drawing\n",
    "myturtle.penup()\n",
    "myturtle.goto(house_width/4 + door_width*3/4, -house_height+door_height/2)\n",
    "\n",
    "#Draw the doorknob\n",
    "myturtle.pendown()\n",
    "myturtle.circle(door_width/10)\n",
    "\n",
    "#Move the turtle to where we'll put the window without drawing\n",
    "myturtle.penup()\n",
    "myturtle.goto(house_width*3/4, -house_height/4)\n",
    "\n",
    "#Draw the inside of the window\n",
    "myturtle.pendown()\n",
    "myturtle.forward(window_height)\n",
    "myturtle.right(90)\n",
    "myturtle.forward(window_width)\n",
    "myturtle.right(90)\n",
    "myturtle.forward(window_height)\n",
    "myturtle.right(90)\n",
    "myturtle.forward(window_width)\n",
    "\n",
    "#Draw the outside of the window\n",
    "myturtle.right(90)\n",
    "myturtle.forward(window_height/2)\n",
    "myturtle.right(90)\n",
    "myturtle.forward(window_width)\n",
    "myturtle.right(90)\n",
    "myturtle.forward(window_height/2)\n",
    "myturtle.right(90)\n",
    "myturtle.forward(window_width/2)\n",
    "myturtle.right(90)\n",
    "myturtle.forward(window_height)"
   ]
  },
  {
   "cell_type": "markdown",
   "metadata": {},
   "source": [
    "![title](img/img17.png)"
   ]
  },
  {
   "cell_type": "code",
   "execution_count": null,
   "metadata": {
    "collapsed": true
   },
   "outputs": [],
   "source": [
    "#This code will draw a rainbow\n",
    "import turtle\n",
    "\n",
    "#These are the colors we want to put in our rainbow\n",
    "colors = ['red', 'orange', 'yellow', 'green', 'blue', 'indigo', 'violet']\n",
    "\n",
    "#This is how many colors we have\n",
    "n_colors = len(colors)\n",
    "\n",
    "#This is how big our pen will be\n",
    "size = 50\n",
    "\n",
    "#We create our turtle\n",
    "myturtle = turtle.Turtle()\n",
    "\n",
    "#We make its pen the correct size\n",
    "myturtle.pensize(size)\n",
    "\n",
    "#Let's make the turtle start out facing down\n",
    "myturtle.right(90)\n",
    "\n",
    "#We use a while loop to draw each band of the rainbow\n",
    "band = 0\n",
    "while band < n_colors:\n",
    "    #This calculates the radius of our band\n",
    "    radius = size*n_colors - band * size\n",
    "\n",
    "    #We move our turtle to the start of the band without drawing\n",
    "    myturtle.penup()\n",
    "    myturtle.goto(radius, 0)\n",
    "\n",
    "    #We turn our turtle around so it's facing up\n",
    "    myturtle.left(180)\n",
    "\n",
    "    #We set the pen color to the correct color of the band\n",
    "    myturtle.pencolor(colors[band])\n",
    "\n",
    "    #We draw the band\n",
    "    myturtle.pendown()\n",
    "    myturtle.circle(radius, extent=180)\n",
    "\n",
    "    #We move on to the next band\n",
    "    band = band + 1\n"
   ]
  },
  {
   "cell_type": "markdown",
   "metadata": {},
   "source": [
    "![title](img/img18.png)"
   ]
  },
  {
   "cell_type": "code",
   "execution_count": null,
   "metadata": {
    "collapsed": true
   },
   "outputs": [],
   "source": [
    "#This code will create abstract art with random colors\n",
    "\n",
    "import turtle\n",
    "import random\n",
    "\n",
    "#These are the colors we will random\n",
    "colors = ['red', 'orange', 'yellow', 'green', 'blue', 'indigo', 'violet']\n",
    "\n",
    "#This variable determines how many times the turtle will move\n",
    "times = 400\n",
    "\n",
    "#This variable determines how far the turtle will move \n",
    "step = 25\n",
    "\n",
    "#This variable determines the angle the turtle will turn\n",
    "angle = 91\n",
    "\n",
    "#Create our turtle and make it move instantly\n",
    "myturtle = turtle.Turtle()\n",
    "myturtle.speed(0)\n",
    "\n",
    "#This while loop controls when the turtle moves\n",
    "t = 0\n",
    "while t < times:\n",
    "    #Get a random number\n",
    "    c = random.randint(0, len(colors)-1)\n",
    "\n",
    "    #Select a color from the list based on the random number\n",
    "    myturtle.pencolor(colors[c]) \n",
    "\n",
    "    #Move the turtle\n",
    "    myturtle.forward(step + t) #the turtle moves a little farther each time\n",
    "    myturtle.right(angle)\n",
    "\n",
    "    #Go to the text time\n",
    "    t = t + 1 \n"
   ]
  },
  {
   "cell_type": "markdown",
   "metadata": {},
   "source": [
    "![title](img/img19.png)"
   ]
  },
  {
   "cell_type": "code",
   "execution_count": null,
   "metadata": {
    "collapsed": true
   },
   "outputs": [],
   "source": []
  }
 ],
 "metadata": {
  "kernelspec": {
   "display_name": "Python [conda root]",
   "language": "python",
   "name": "conda-root-py"
  },
  "language_info": {
   "codemirror_mode": {
    "name": "ipython",
    "version": 3
   },
   "file_extension": ".py",
   "mimetype": "text/x-python",
   "name": "python",
   "nbconvert_exporter": "python",
   "pygments_lexer": "ipython3",
   "version": "3.5.2"
  }
 },
 "nbformat": 4,
 "nbformat_minor": 1
}
